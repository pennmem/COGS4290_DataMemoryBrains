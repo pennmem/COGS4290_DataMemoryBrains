{
 "cells": [
  {
   "cell_type": "markdown",
   "id": "f59204fd-fdf9-477d-b5a6-c28eec3c0589",
   "metadata": {},
   "source": [
    "# COGS 4290 Assignment 0"
   ]
  },
  {
   "cell_type": "code",
   "execution_count": 1,
   "id": "23bc0914-9616-487b-abb5-72b5c786e328",
   "metadata": {
    "tags": []
   },
   "outputs": [],
   "source": [
    "# imports\n",
    "import numpy as np\n",
    "import pandas as pd; pd.set_option('display.max_columns', None)\n",
    "import matplotlib.pyplot as plt\n",
    "import warnings; warnings.filterwarnings('ignore')\n",
    "import pickle\n",
    "import time"
   ]
  },
  {
   "cell_type": "markdown",
   "id": "ebf58753-a33b-4d57-a39b-ecce9dfa199d",
   "metadata": {
    "tags": []
   },
   "source": [
    "## Problem 1: Lists and Matplotlib\n",
    "A question of great intrigue in neuroscience is how do we mathematically describe the activity of individual neurons.  One attempt at this the Izhikevich model, which consists of 3 equations that model the dynamics of a neuron's membrane potential (or voltage in mV) $V$, where $\\Delta V$ is the change in $V$ over each timestep of duration $\\Delta t$ (in ms).\n",
    "\n",
    "$$\n",
    "\\frac{\\Delta V}{\\Delta t} = 0.04V^{2} + 5V + 140 - u + I\n",
    "$$\n",
    "\n",
    "$$\n",
    "\\frac{\\Delta u}{\\Delta t} = a(bV - u)\n",
    "$$\n",
    "\n",
    "$$\n",
    "if \\ V \\geq 30 \\ mV, \\ then \\ \\{V \\leftarrow c; u \\leftarrow u + d\\}\n",
    "$$\n",
    "\n",
    "Here $u$ is a membrane recovery variable, $I$ is the input current (in mA), and $a$, $b$, $c$, and $d$ are free parameters.  Essentially, the first two equations model how the voltage $V$ and recovery variable $u$ change in time, while the third equation indicates that if the voltage reaches a certain threshold, it will be reset to some value $c$.  This reset is meant to symbolize the hyperpolarization that follows the firing of an action potential.\n",
    "\n",
    "In this problem, we will simulate the Izhikevich model with different parameter sets to generate unique neuronal behaviors.  We will use the same constants and initial values for each part as defined below, with our simulations running over 300 ms.  For the input current, we will presume that there is 50 ms of no current followed by 250 ms of constant current at 10 mA.\n",
    "\n",
    "* Hint: The first two equations correspond to two differential equations, the first of which tells us how the membrane potential changes with time.  If we want to run a simulation that steps forward in time, think of how we can solve for the change in voltage."
   ]
  },
  {
   "cell_type": "code",
   "execution_count": 2,
   "id": "8de13a1c-356c-4153-95d1-aaa83a778f41",
   "metadata": {},
   "outputs": [],
   "source": [
    "# constants, initial values\n",
    "Vthresh = 30           # threshold potential [mV]\n",
    "V0 = -65               # initial potential [mV]\n",
    "t0 = -50               # initial time [ms]\n",
    "tf = 250               # final time [ms]\n",
    "dt = 0.01              # time step [ms]\n",
    "I_in = 10              # input current [mA]"
   ]
  },
  {
   "cell_type": "markdown",
   "id": "b503319b-c68a-4eac-b838-ddf4199b767f",
   "metadata": {},
   "source": [
    "To run simulations of the model, we will define a function that takes in several arguments for the initial conditions and parameter values and returns two lists, one that holds the membrane potential and one that holds the time at each step of the simulation, as well as the number of action potentials fired."
   ]
  },
  {
   "cell_type": "code",
   "execution_count": 3,
   "id": "fda72576-db92-4741-906e-2f946c412eda",
   "metadata": {},
   "outputs": [],
   "source": [
    "# Izhikevich model simulation\n",
    "def Izh_model(V0, Vthresh, t0, tf, dt, a, b, c, d, I_in):\n",
    "    V = V0                       # set initial voltage\n",
    "    u0 = b * V0\n",
    "    u = u0                       # set initial membrane recovery\n",
    "    t = t0                       # set initial time\n",
    "    Vlist = [V]                  # list holding voltage time-series\n",
    "    tlist = [t]                  # list holding times\n",
    "    action_potentials = 0        # number of action potentials\n",
    "    \n",
    "    ### YOUR CODE HERE\n",
    "    raise NotImplementedError\n",
    "    \n",
    "    return Vlist, tlist, action_potentials\n",
    "    "
   ]
  },
  {
   "cell_type": "markdown",
   "id": "85febbc8-4fff-4552-a936-3e09e620bd1e",
   "metadata": {},
   "source": [
    "#### Part (a) Regular Spiking Neuron\n",
    "Simulate the Izhekevich model with the parameters $a = 0.02$, $b = 0.2$, $c = -65 \\ mV$, $d = 8$.  Input to the neuron a step current, $I = 0$ when $t < 0$ and $I = 10$ when $t \\geq 0$.  Plot the results and indicate how many action potentials the neuron fired.  Make sure to label your axes, as well as indicate on your graph the reset and threshold potentials using dashed horizontal lines."
   ]
  },
  {
   "cell_type": "code",
   "execution_count": 4,
   "id": "cb6534d9-0c37-43a9-b45b-c27524bc5417",
   "metadata": {},
   "outputs": [],
   "source": [
    "### YOUR CODE HERE\n",
    "# parameters\n"
   ]
  },
  {
   "cell_type": "code",
   "execution_count": 5,
   "id": "b5171fc3-2359-4f16-817e-457967f8c47a",
   "metadata": {},
   "outputs": [],
   "source": [
    "# run the model\n"
   ]
  },
  {
   "cell_type": "code",
   "execution_count": 6,
   "id": "2b751ff9-8062-4a42-96cd-9e13a3fc2917",
   "metadata": {},
   "outputs": [],
   "source": [
    "# graphing\n"
   ]
  },
  {
   "cell_type": "markdown",
   "id": "d5dcc341-aa48-486c-84e3-93139298fe4e",
   "metadata": {},
   "source": [
    "#### Part (b) Chattering Neuron\n",
    "Simulate the Izhekevich model with the parameters $a = 0.02$, $b = 0.2$, $c = -50 \\ mV$, $d = 2$.  Input to the neuron a step current, $I = 0$ when $t < 0$ and $I = 10$ when $t \\geq 0$.  Plot the results and indicate how many action potentials the neuron fired.  Make sure to label your axes, as well as indicate on your graph the reset and threshold potentials using dashed horizontal lines."
   ]
  },
  {
   "cell_type": "code",
   "execution_count": 7,
   "id": "71025835-bb60-4139-a711-a750fe6c278e",
   "metadata": {},
   "outputs": [],
   "source": [
    "### YOUR CODE HERE\n",
    "# parameters\n"
   ]
  },
  {
   "cell_type": "code",
   "execution_count": 8,
   "id": "d994a290-2a98-4ba4-b99f-9e447c993d39",
   "metadata": {},
   "outputs": [],
   "source": [
    "# run the model\n"
   ]
  },
  {
   "cell_type": "code",
   "execution_count": 9,
   "id": "845416d8-577d-45e2-93f9-2efc42cf11fb",
   "metadata": {},
   "outputs": [],
   "source": [
    "# graphing\n"
   ]
  },
  {
   "cell_type": "markdown",
   "id": "bb88fa15-0d4e-44b8-bf39-03f9e4b7ccb7",
   "metadata": {},
   "source": [
    "## Problem 2: Numpy and Multi-dimensional Data"
   ]
  },
  {
   "cell_type": "markdown",
   "id": "aaeae8ec-2bf7-4479-b4bb-595968756991",
   "metadata": {},
   "source": [
    "We have data on the temperature profile of a lake in Switzerland, in the form of a 4-dimensional array.  The first dimension represents depth, the second length, the third width (all in meters), and the last dimension represents the day of the year (stating January 1st and ending December 31st).  We are interested in the dynamics of the temperature profile of the lake over the course of the year and want to answer the follwing.\n",
    "\n",
    "Questions:\n",
    "1) Find the day of the year where the average temperature of the entire lake is the coldest, warmest.\n",
    "2) Plot the change in temperature of the lake averaged over the entire body of water as a time-series, taking the difference each day.\n",
    "3) For each 10 meter layer of depth, find the sample standard deviation of temperatue over the year, treating each day as independent.\n",
    "4) Averaging over the width, plot the 2-dimensional temperatue profile of the lake averaging over 1 week in the summer and 1 week in the winter.\n",
    "\n",
    "Running the cell below will generate the data for use to analyze."
   ]
  },
  {
   "cell_type": "code",
   "execution_count": 10,
   "id": "9abd8f34-5f38-42eb-ad3b-9f544a4d9886",
   "metadata": {},
   "outputs": [],
   "source": [
    "def gen_lake_data():\n",
    "    temp_lake = np.zeros((50, 100, 70, 365), dtype=float)    # 50 meters depth, 100 meters length, 50 meters width, 365 days\n",
    "    ones = np.ones((temp_lake.shape[1], temp_lake.shape[2]))\n",
    "    \n",
    "    # linear function of height\n",
    "    h = np.arange(0, 50)\n",
    "    temp_h = -0.3*h + 15\n",
    "    \n",
    "    # sinusoid on time\n",
    "    day = np.arange(0, 365)\n",
    "    temp_day = np.sin(np.radians(day) - 5*np.pi/6)\n",
    "    \n",
    "    for i in range(temp_lake.shape[0]):\n",
    "        for j in range(temp_lake.shape[3]):\n",
    "            np.random.seed(i*j)\n",
    "            temp_lake[i,:,:,j] = temp_h[i] * temp_day[j] * ones * 0.8 + np.random.uniform(-1.0, 1.0, ones.shape) + 10   # randomly sample for each width and length\n",
    "    \n",
    "    return temp_lake\n",
    "\n",
    "t_lake = gen_lake_data()"
   ]
  },
  {
   "cell_type": "markdown",
   "id": "12c4d7ce-1c6d-4216-a7fc-e3a08d1c739a",
   "metadata": {
    "tags": []
   },
   "source": [
    "#### Part (a)\n",
    "Find the day of the year where the average temperature of the entire lake is the coldest and the warmest."
   ]
  },
  {
   "cell_type": "code",
   "execution_count": 11,
   "id": "82c67319-3ab3-45cd-b3e9-8a527ecbde6a",
   "metadata": {},
   "outputs": [],
   "source": [
    "### YOUR CODE HERE\n"
   ]
  },
  {
   "cell_type": "code",
   "execution_count": 12,
   "id": "fe2eb9f2-10da-437e-a8bc-2e43ff8d5e65",
   "metadata": {},
   "outputs": [],
   "source": [
    "# print results\n"
   ]
  },
  {
   "cell_type": "markdown",
   "id": "0f0806f6-013d-4490-a44c-a4231d9cec2d",
   "metadata": {},
   "source": [
    "#### Part (b)\n",
    "For each 10 meter layer of depth, find the sample standard deviation of temperature over the year, treating each day as independent.  First, do so manually using the formula for the sample standard deviation:\n",
    "\n",
    "$$\n",
    "\\sigma = \\sqrt{\\frac{\\sum{(x_{i}-\\bar{x})^{2}}}{n-1}}\n",
    "$$\n",
    "\n",
    "where we sum over all observations $x_{i}$, $\\bar{x}$ is the sample mean, and $n$ is the number of data points.  Then, do the same calculation using a numpy function."
   ]
  },
  {
   "cell_type": "code",
   "execution_count": 13,
   "id": "527c9147-7ea6-4597-a3a7-9152b61d2bb4",
   "metadata": {},
   "outputs": [],
   "source": [
    "### YOUR CODE HERE\n"
   ]
  },
  {
   "cell_type": "code",
   "execution_count": 14,
   "id": "81bec928-e362-4ba1-a5e0-b90f6493ec5e",
   "metadata": {},
   "outputs": [],
   "source": [
    "# manually calculate\n"
   ]
  },
  {
   "cell_type": "code",
   "execution_count": 15,
   "id": "10a01503-c72e-428c-86ab-748f4b4a46ad",
   "metadata": {},
   "outputs": [],
   "source": [
    "# print results\n"
   ]
  },
  {
   "cell_type": "code",
   "execution_count": 16,
   "id": "d63fef11-16a8-448f-b75e-171b83d213b9",
   "metadata": {},
   "outputs": [],
   "source": [
    "# use a numpy function\n"
   ]
  },
  {
   "cell_type": "code",
   "execution_count": 17,
   "id": "f5be5109-5a0d-4a13-a7ae-dcb7f18c721a",
   "metadata": {},
   "outputs": [],
   "source": [
    "# print results\n"
   ]
  },
  {
   "cell_type": "markdown",
   "id": "28a64f34-6b2a-416e-a058-035e4dbec223",
   "metadata": {},
   "source": [
    "#### Part (c)\n",
    "Selecting a width in the middle of the lake, plot the two-dimensional temperature profile of the lake on 1 day in the summer and 1 day in the winter.  Also, averaging over the width of the lake, plot the temperature profile averaged over 1 week in the summer and 1 week in the winter."
   ]
  },
  {
   "cell_type": "code",
   "execution_count": 18,
   "id": "607b7814-9834-4bfb-9ece-ca6625645956",
   "metadata": {},
   "outputs": [],
   "source": [
    "### YOUR CODE HERE\n"
   ]
  },
  {
   "cell_type": "code",
   "execution_count": 19,
   "id": "7a968214-bd54-4b73-97f2-85e52cefe721",
   "metadata": {},
   "outputs": [],
   "source": [
    "# graphing\n"
   ]
  },
  {
   "cell_type": "markdown",
   "id": "d62bfc68-72df-4700-b21b-c344150473d1",
   "metadata": {},
   "source": [
    "## Problem 3: Pandas"
   ]
  },
  {
   "cell_type": "markdown",
   "id": "e524033d-af33-491c-a7f6-b165dd0d74f2",
   "metadata": {},
   "source": [
    "Imagine you work for a professional football club.  Your team just lost your best player, so the owner has tasked you with identifying potential replacement players that your team can sign.  Specifically, the manager has instructed you that they are looking for players with the following qualifications:\n",
    "\n",
    "1) Midfielders: Only look at players who have 'MF' listed as a position they can play ('Pos').\n",
    "2) Injury-Free: Only look at players who played more that 10 90s in the previous season ('90s').\n",
    "3) Above average passing completion percentage ('Total_CMP%').\n",
    "4) Above average key passes per 90 minutes ('KP').\n",
    "5) Above average progressive passing distance per 90 minutes ('Total_PrgDist').\n",
    "6) Youth: Only look at players under 25 years old ('Age').\n",
    "\n",
    "Run the following code to load in a dataset containing player statistics from the previous season."
   ]
  },
  {
   "cell_type": "code",
   "execution_count": 2,
   "id": "53db115f-bd0f-4c28-bce9-936d52e28ef7",
   "metadata": {},
   "outputs": [
    {
     "data": {
      "text/html": [
       "<div>\n",
       "<style scoped>\n",
       "    .dataframe tbody tr th:only-of-type {\n",
       "        vertical-align: middle;\n",
       "    }\n",
       "\n",
       "    .dataframe tbody tr th {\n",
       "        vertical-align: top;\n",
       "    }\n",
       "\n",
       "    .dataframe thead th {\n",
       "        text-align: right;\n",
       "    }\n",
       "</style>\n",
       "<table border=\"1\" class=\"dataframe\">\n",
       "  <thead>\n",
       "    <tr style=\"text-align: right;\">\n",
       "      <th></th>\n",
       "      <th>Rk</th>\n",
       "      <th>Player</th>\n",
       "      <th>Nation</th>\n",
       "      <th>Pos</th>\n",
       "      <th>Squad</th>\n",
       "      <th>Comp</th>\n",
       "      <th>Age</th>\n",
       "      <th>Born</th>\n",
       "      <th>90s</th>\n",
       "      <th>Total_Cmp</th>\n",
       "      <th>Total_Att</th>\n",
       "      <th>Total_Cmp%</th>\n",
       "      <th>Total_TotDist</th>\n",
       "      <th>Total_PrgDist</th>\n",
       "      <th>Short_Cmp</th>\n",
       "      <th>Short_Att</th>\n",
       "      <th>Short_Cmp%</th>\n",
       "      <th>Medium_Cmp</th>\n",
       "      <th>Medium_Att</th>\n",
       "      <th>Medium_Cmp%</th>\n",
       "      <th>Long_Cmp</th>\n",
       "      <th>Long_Att</th>\n",
       "      <th>Long_Cmp%</th>\n",
       "      <th>Ast</th>\n",
       "      <th>xAG</th>\n",
       "      <th>xA</th>\n",
       "      <th>A-xAG</th>\n",
       "      <th>KP</th>\n",
       "      <th>1/3</th>\n",
       "      <th>PPA</th>\n",
       "      <th>CrsPA</th>\n",
       "      <th>PrgP</th>\n",
       "      <th>Matches</th>\n",
       "    </tr>\n",
       "  </thead>\n",
       "  <tbody>\n",
       "    <tr>\n",
       "      <th>0</th>\n",
       "      <td>1</td>\n",
       "      <td>Brenden Aaronson</td>\n",
       "      <td>us USA</td>\n",
       "      <td>MF,FW</td>\n",
       "      <td>Leeds United</td>\n",
       "      <td>eng Premier League</td>\n",
       "      <td>21.0</td>\n",
       "      <td>2000.0</td>\n",
       "      <td>26.4</td>\n",
       "      <td>592.0</td>\n",
       "      <td>797.0</td>\n",
       "      <td>74.3</td>\n",
       "      <td>7577.0</td>\n",
       "      <td>2182.0</td>\n",
       "      <td>346.0</td>\n",
       "      <td>423.0</td>\n",
       "      <td>81.8</td>\n",
       "      <td>150.0</td>\n",
       "      <td>195.0</td>\n",
       "      <td>76.9</td>\n",
       "      <td>25.0</td>\n",
       "      <td>65.0</td>\n",
       "      <td>38.5</td>\n",
       "      <td>3.0</td>\n",
       "      <td>4.2</td>\n",
       "      <td>2.6</td>\n",
       "      <td>-1.2</td>\n",
       "      <td>46.0</td>\n",
       "      <td>47.0</td>\n",
       "      <td>16.0</td>\n",
       "      <td>4.0</td>\n",
       "      <td>86.0</td>\n",
       "      <td>Matches</td>\n",
       "    </tr>\n",
       "    <tr>\n",
       "      <th>1</th>\n",
       "      <td>2</td>\n",
       "      <td>Paxten Aaronson</td>\n",
       "      <td>us USA</td>\n",
       "      <td>MF,DF</td>\n",
       "      <td>Eint Frankfurt</td>\n",
       "      <td>de Bundesliga</td>\n",
       "      <td>18.0</td>\n",
       "      <td>2003.0</td>\n",
       "      <td>1.9</td>\n",
       "      <td>51.0</td>\n",
       "      <td>71.0</td>\n",
       "      <td>71.8</td>\n",
       "      <td>659.0</td>\n",
       "      <td>109.0</td>\n",
       "      <td>36.0</td>\n",
       "      <td>38.0</td>\n",
       "      <td>94.7</td>\n",
       "      <td>14.0</td>\n",
       "      <td>23.0</td>\n",
       "      <td>60.9</td>\n",
       "      <td>1.0</td>\n",
       "      <td>6.0</td>\n",
       "      <td>16.7</td>\n",
       "      <td>0.0</td>\n",
       "      <td>0.0</td>\n",
       "      <td>0.1</td>\n",
       "      <td>0.0</td>\n",
       "      <td>1.0</td>\n",
       "      <td>3.0</td>\n",
       "      <td>0.0</td>\n",
       "      <td>0.0</td>\n",
       "      <td>6.0</td>\n",
       "      <td>Matches</td>\n",
       "    </tr>\n",
       "    <tr>\n",
       "      <th>2</th>\n",
       "      <td>3</td>\n",
       "      <td>James Abankwah</td>\n",
       "      <td>ie IRL</td>\n",
       "      <td>DF</td>\n",
       "      <td>Udinese</td>\n",
       "      <td>it Serie A</td>\n",
       "      <td>18.0</td>\n",
       "      <td>2004.0</td>\n",
       "      <td>0.7</td>\n",
       "      <td>23.0</td>\n",
       "      <td>29.0</td>\n",
       "      <td>79.3</td>\n",
       "      <td>375.0</td>\n",
       "      <td>79.0</td>\n",
       "      <td>14.0</td>\n",
       "      <td>15.0</td>\n",
       "      <td>93.3</td>\n",
       "      <td>6.0</td>\n",
       "      <td>8.0</td>\n",
       "      <td>75.0</td>\n",
       "      <td>2.0</td>\n",
       "      <td>5.0</td>\n",
       "      <td>40.0</td>\n",
       "      <td>0.0</td>\n",
       "      <td>0.0</td>\n",
       "      <td>0.0</td>\n",
       "      <td>0.0</td>\n",
       "      <td>0.0</td>\n",
       "      <td>0.0</td>\n",
       "      <td>0.0</td>\n",
       "      <td>0.0</td>\n",
       "      <td>0.0</td>\n",
       "      <td>Matches</td>\n",
       "    </tr>\n",
       "    <tr>\n",
       "      <th>3</th>\n",
       "      <td>4</td>\n",
       "      <td>George Abbott</td>\n",
       "      <td>eng ENG</td>\n",
       "      <td>MF</td>\n",
       "      <td>Tottenham</td>\n",
       "      <td>eng Premier League</td>\n",
       "      <td>16.0</td>\n",
       "      <td>2005.0</td>\n",
       "      <td>0.0</td>\n",
       "      <td>1.0</td>\n",
       "      <td>1.0</td>\n",
       "      <td>100.0</td>\n",
       "      <td>8.0</td>\n",
       "      <td>0.0</td>\n",
       "      <td>1.0</td>\n",
       "      <td>1.0</td>\n",
       "      <td>100.0</td>\n",
       "      <td>0.0</td>\n",
       "      <td>0.0</td>\n",
       "      <td>NaN</td>\n",
       "      <td>0.0</td>\n",
       "      <td>0.0</td>\n",
       "      <td>NaN</td>\n",
       "      <td>0.0</td>\n",
       "      <td>0.0</td>\n",
       "      <td>0.0</td>\n",
       "      <td>0.0</td>\n",
       "      <td>0.0</td>\n",
       "      <td>0.0</td>\n",
       "      <td>0.0</td>\n",
       "      <td>0.0</td>\n",
       "      <td>0.0</td>\n",
       "      <td>Matches</td>\n",
       "    </tr>\n",
       "    <tr>\n",
       "      <th>4</th>\n",
       "      <td>5</td>\n",
       "      <td>Yunis Abdelhamid</td>\n",
       "      <td>ma MAR</td>\n",
       "      <td>DF</td>\n",
       "      <td>Reims</td>\n",
       "      <td>fr Ligue 1</td>\n",
       "      <td>34.0</td>\n",
       "      <td>1987.0</td>\n",
       "      <td>37.0</td>\n",
       "      <td>1679.0</td>\n",
       "      <td>2031.0</td>\n",
       "      <td>82.7</td>\n",
       "      <td>32967.0</td>\n",
       "      <td>13407.0</td>\n",
       "      <td>490.0</td>\n",
       "      <td>571.0</td>\n",
       "      <td>85.8</td>\n",
       "      <td>1006.0</td>\n",
       "      <td>1117.0</td>\n",
       "      <td>90.1</td>\n",
       "      <td>155.0</td>\n",
       "      <td>279.0</td>\n",
       "      <td>55.6</td>\n",
       "      <td>2.0</td>\n",
       "      <td>1.0</td>\n",
       "      <td>0.9</td>\n",
       "      <td>+1.0</td>\n",
       "      <td>13.0</td>\n",
       "      <td>155.0</td>\n",
       "      <td>5.0</td>\n",
       "      <td>0.0</td>\n",
       "      <td>215.0</td>\n",
       "      <td>Matches</td>\n",
       "    </tr>\n",
       "    <tr>\n",
       "      <th>...</th>\n",
       "      <td>...</td>\n",
       "      <td>...</td>\n",
       "      <td>...</td>\n",
       "      <td>...</td>\n",
       "      <td>...</td>\n",
       "      <td>...</td>\n",
       "      <td>...</td>\n",
       "      <td>...</td>\n",
       "      <td>...</td>\n",
       "      <td>...</td>\n",
       "      <td>...</td>\n",
       "      <td>...</td>\n",
       "      <td>...</td>\n",
       "      <td>...</td>\n",
       "      <td>...</td>\n",
       "      <td>...</td>\n",
       "      <td>...</td>\n",
       "      <td>...</td>\n",
       "      <td>...</td>\n",
       "      <td>...</td>\n",
       "      <td>...</td>\n",
       "      <td>...</td>\n",
       "      <td>...</td>\n",
       "      <td>...</td>\n",
       "      <td>...</td>\n",
       "      <td>...</td>\n",
       "      <td>...</td>\n",
       "      <td>...</td>\n",
       "      <td>...</td>\n",
       "      <td>...</td>\n",
       "      <td>...</td>\n",
       "      <td>...</td>\n",
       "      <td>...</td>\n",
       "    </tr>\n",
       "    <tr>\n",
       "      <th>2999</th>\n",
       "      <td>2885</td>\n",
       "      <td>Martin Ødegaard</td>\n",
       "      <td>no NOR</td>\n",
       "      <td>MF</td>\n",
       "      <td>Arsenal</td>\n",
       "      <td>eng Premier League</td>\n",
       "      <td>23.0</td>\n",
       "      <td>1998.0</td>\n",
       "      <td>34.7</td>\n",
       "      <td>1449.0</td>\n",
       "      <td>1804.0</td>\n",
       "      <td>80.3</td>\n",
       "      <td>22540.0</td>\n",
       "      <td>6014.0</td>\n",
       "      <td>759.0</td>\n",
       "      <td>873.0</td>\n",
       "      <td>86.9</td>\n",
       "      <td>518.0</td>\n",
       "      <td>617.0</td>\n",
       "      <td>84.0</td>\n",
       "      <td>110.0</td>\n",
       "      <td>175.0</td>\n",
       "      <td>62.9</td>\n",
       "      <td>7.0</td>\n",
       "      <td>8.1</td>\n",
       "      <td>7.9</td>\n",
       "      <td>-1.1</td>\n",
       "      <td>76.0</td>\n",
       "      <td>135.0</td>\n",
       "      <td>91.0</td>\n",
       "      <td>4.0</td>\n",
       "      <td>266.0</td>\n",
       "      <td>Matches</td>\n",
       "    </tr>\n",
       "    <tr>\n",
       "      <th>3000</th>\n",
       "      <td>2886</td>\n",
       "      <td>Milan Đurić</td>\n",
       "      <td>ba BIH</td>\n",
       "      <td>FW</td>\n",
       "      <td>Hellas Verona</td>\n",
       "      <td>it Serie A</td>\n",
       "      <td>32.0</td>\n",
       "      <td>1990.0</td>\n",
       "      <td>15.2</td>\n",
       "      <td>268.0</td>\n",
       "      <td>523.0</td>\n",
       "      <td>51.2</td>\n",
       "      <td>3119.0</td>\n",
       "      <td>740.0</td>\n",
       "      <td>186.0</td>\n",
       "      <td>336.0</td>\n",
       "      <td>55.4</td>\n",
       "      <td>54.0</td>\n",
       "      <td>119.0</td>\n",
       "      <td>45.4</td>\n",
       "      <td>5.0</td>\n",
       "      <td>13.0</td>\n",
       "      <td>38.5</td>\n",
       "      <td>1.0</td>\n",
       "      <td>1.3</td>\n",
       "      <td>0.9</td>\n",
       "      <td>-0.3</td>\n",
       "      <td>21.0</td>\n",
       "      <td>27.0</td>\n",
       "      <td>5.0</td>\n",
       "      <td>0.0</td>\n",
       "      <td>29.0</td>\n",
       "      <td>Matches</td>\n",
       "    </tr>\n",
       "    <tr>\n",
       "      <th>3001</th>\n",
       "      <td>2887</td>\n",
       "      <td>Filip Đuričić</td>\n",
       "      <td>rs SRB</td>\n",
       "      <td>MF,FW</td>\n",
       "      <td>Sampdoria</td>\n",
       "      <td>it Serie A</td>\n",
       "      <td>30.0</td>\n",
       "      <td>1992.0</td>\n",
       "      <td>24.1</td>\n",
       "      <td>586.0</td>\n",
       "      <td>758.0</td>\n",
       "      <td>77.3</td>\n",
       "      <td>9599.0</td>\n",
       "      <td>2169.0</td>\n",
       "      <td>302.0</td>\n",
       "      <td>347.0</td>\n",
       "      <td>87.0</td>\n",
       "      <td>211.0</td>\n",
       "      <td>254.0</td>\n",
       "      <td>83.1</td>\n",
       "      <td>52.0</td>\n",
       "      <td>86.0</td>\n",
       "      <td>60.5</td>\n",
       "      <td>0.0</td>\n",
       "      <td>1.9</td>\n",
       "      <td>1.6</td>\n",
       "      <td>-1.9</td>\n",
       "      <td>34.0</td>\n",
       "      <td>50.0</td>\n",
       "      <td>18.0</td>\n",
       "      <td>4.0</td>\n",
       "      <td>77.0</td>\n",
       "      <td>Matches</td>\n",
       "    </tr>\n",
       "    <tr>\n",
       "      <th>3002</th>\n",
       "      <td>2888</td>\n",
       "      <td>Blanco</td>\n",
       "      <td>NaN</td>\n",
       "      <td>MF</td>\n",
       "      <td>Cádiz</td>\n",
       "      <td>es La Liga</td>\n",
       "      <td>22.0</td>\n",
       "      <td>2000.0</td>\n",
       "      <td>1.8</td>\n",
       "      <td>NaN</td>\n",
       "      <td>NaN</td>\n",
       "      <td>NaN</td>\n",
       "      <td>NaN</td>\n",
       "      <td>NaN</td>\n",
       "      <td>NaN</td>\n",
       "      <td>NaN</td>\n",
       "      <td>NaN</td>\n",
       "      <td>NaN</td>\n",
       "      <td>NaN</td>\n",
       "      <td>NaN</td>\n",
       "      <td>NaN</td>\n",
       "      <td>NaN</td>\n",
       "      <td>NaN</td>\n",
       "      <td>0.0</td>\n",
       "      <td>NaN</td>\n",
       "      <td>NaN</td>\n",
       "      <td>NaN</td>\n",
       "      <td>NaN</td>\n",
       "      <td>NaN</td>\n",
       "      <td>NaN</td>\n",
       "      <td>NaN</td>\n",
       "      <td>NaN</td>\n",
       "      <td>Matches</td>\n",
       "    </tr>\n",
       "    <tr>\n",
       "      <th>3003</th>\n",
       "      <td>2889</td>\n",
       "      <td>Hugo Guillamón</td>\n",
       "      <td>NaN</td>\n",
       "      <td>DF,MF</td>\n",
       "      <td>Valencia</td>\n",
       "      <td>es La Liga</td>\n",
       "      <td>22.0</td>\n",
       "      <td>2000.0</td>\n",
       "      <td>18.1</td>\n",
       "      <td>NaN</td>\n",
       "      <td>NaN</td>\n",
       "      <td>NaN</td>\n",
       "      <td>NaN</td>\n",
       "      <td>NaN</td>\n",
       "      <td>NaN</td>\n",
       "      <td>NaN</td>\n",
       "      <td>NaN</td>\n",
       "      <td>NaN</td>\n",
       "      <td>NaN</td>\n",
       "      <td>NaN</td>\n",
       "      <td>NaN</td>\n",
       "      <td>NaN</td>\n",
       "      <td>NaN</td>\n",
       "      <td>4.0</td>\n",
       "      <td>NaN</td>\n",
       "      <td>NaN</td>\n",
       "      <td>NaN</td>\n",
       "      <td>NaN</td>\n",
       "      <td>NaN</td>\n",
       "      <td>NaN</td>\n",
       "      <td>NaN</td>\n",
       "      <td>NaN</td>\n",
       "      <td>Matches</td>\n",
       "    </tr>\n",
       "  </tbody>\n",
       "</table>\n",
       "<p>3004 rows × 33 columns</p>\n",
       "</div>"
      ],
      "text/plain": [
       "        Rk            Player   Nation    Pos           Squad  \\\n",
       "0        1  Brenden Aaronson   us USA  MF,FW    Leeds United   \n",
       "1        2   Paxten Aaronson   us USA  MF,DF  Eint Frankfurt   \n",
       "2        3    James Abankwah   ie IRL     DF         Udinese   \n",
       "3        4     George Abbott  eng ENG     MF       Tottenham   \n",
       "4        5  Yunis Abdelhamid   ma MAR     DF           Reims   \n",
       "...    ...               ...      ...    ...             ...   \n",
       "2999  2885   Martin Ødegaard   no NOR     MF         Arsenal   \n",
       "3000  2886       Milan Đurić   ba BIH     FW   Hellas Verona   \n",
       "3001  2887     Filip Đuričić   rs SRB  MF,FW       Sampdoria   \n",
       "3002  2888            Blanco      NaN     MF           Cádiz   \n",
       "3003  2889    Hugo Guillamón      NaN  DF,MF        Valencia   \n",
       "\n",
       "                    Comp   Age    Born   90s  Total_Cmp  Total_Att  \\\n",
       "0     eng Premier League  21.0  2000.0  26.4      592.0      797.0   \n",
       "1          de Bundesliga  18.0  2003.0   1.9       51.0       71.0   \n",
       "2             it Serie A  18.0  2004.0   0.7       23.0       29.0   \n",
       "3     eng Premier League  16.0  2005.0   0.0        1.0        1.0   \n",
       "4             fr Ligue 1  34.0  1987.0  37.0     1679.0     2031.0   \n",
       "...                  ...   ...     ...   ...        ...        ...   \n",
       "2999  eng Premier League  23.0  1998.0  34.7     1449.0     1804.0   \n",
       "3000          it Serie A  32.0  1990.0  15.2      268.0      523.0   \n",
       "3001          it Serie A  30.0  1992.0  24.1      586.0      758.0   \n",
       "3002          es La Liga  22.0  2000.0   1.8        NaN        NaN   \n",
       "3003          es La Liga  22.0  2000.0  18.1        NaN        NaN   \n",
       "\n",
       "      Total_Cmp%  Total_TotDist  Total_PrgDist  Short_Cmp  Short_Att  \\\n",
       "0           74.3         7577.0         2182.0      346.0      423.0   \n",
       "1           71.8          659.0          109.0       36.0       38.0   \n",
       "2           79.3          375.0           79.0       14.0       15.0   \n",
       "3          100.0            8.0            0.0        1.0        1.0   \n",
       "4           82.7        32967.0        13407.0      490.0      571.0   \n",
       "...          ...            ...            ...        ...        ...   \n",
       "2999        80.3        22540.0         6014.0      759.0      873.0   \n",
       "3000        51.2         3119.0          740.0      186.0      336.0   \n",
       "3001        77.3         9599.0         2169.0      302.0      347.0   \n",
       "3002         NaN            NaN            NaN        NaN        NaN   \n",
       "3003         NaN            NaN            NaN        NaN        NaN   \n",
       "\n",
       "      Short_Cmp%  Medium_Cmp  Medium_Att  Medium_Cmp%  Long_Cmp  Long_Att  \\\n",
       "0           81.8       150.0       195.0         76.9      25.0      65.0   \n",
       "1           94.7        14.0        23.0         60.9       1.0       6.0   \n",
       "2           93.3         6.0         8.0         75.0       2.0       5.0   \n",
       "3          100.0         0.0         0.0          NaN       0.0       0.0   \n",
       "4           85.8      1006.0      1117.0         90.1     155.0     279.0   \n",
       "...          ...         ...         ...          ...       ...       ...   \n",
       "2999        86.9       518.0       617.0         84.0     110.0     175.0   \n",
       "3000        55.4        54.0       119.0         45.4       5.0      13.0   \n",
       "3001        87.0       211.0       254.0         83.1      52.0      86.0   \n",
       "3002         NaN         NaN         NaN          NaN       NaN       NaN   \n",
       "3003         NaN         NaN         NaN          NaN       NaN       NaN   \n",
       "\n",
       "      Long_Cmp%  Ast  xAG   xA A-xAG    KP    1/3   PPA  CrsPA   PrgP  Matches  \n",
       "0          38.5  3.0  4.2  2.6  -1.2  46.0   47.0  16.0    4.0   86.0  Matches  \n",
       "1          16.7  0.0  0.0  0.1   0.0   1.0    3.0   0.0    0.0    6.0  Matches  \n",
       "2          40.0  0.0  0.0  0.0   0.0   0.0    0.0   0.0    0.0    0.0  Matches  \n",
       "3           NaN  0.0  0.0  0.0   0.0   0.0    0.0   0.0    0.0    0.0  Matches  \n",
       "4          55.6  2.0  1.0  0.9  +1.0  13.0  155.0   5.0    0.0  215.0  Matches  \n",
       "...         ...  ...  ...  ...   ...   ...    ...   ...    ...    ...      ...  \n",
       "2999       62.9  7.0  8.1  7.9  -1.1  76.0  135.0  91.0    4.0  266.0  Matches  \n",
       "3000       38.5  1.0  1.3  0.9  -0.3  21.0   27.0   5.0    0.0   29.0  Matches  \n",
       "3001       60.5  0.0  1.9  1.6  -1.9  34.0   50.0  18.0    4.0   77.0  Matches  \n",
       "3002        NaN  0.0  NaN  NaN   NaN   NaN    NaN   NaN    NaN    NaN  Matches  \n",
       "3003        NaN  4.0  NaN  NaN   NaN   NaN    NaN   NaN    NaN    NaN  Matches  \n",
       "\n",
       "[3004 rows x 33 columns]"
      ]
     },
     "execution_count": 2,
     "metadata": {},
     "output_type": "execute_result"
    }
   ],
   "source": [
    "def load_fbref_data():\n",
    "    # load in data from html\n",
    "    passing_t5 = pd.read_html('https://fbref.com/en/comps/Big5/2022-2023/passing/players/2022-2023-Big-5-European-Leagues-Stats')[0]\n",
    "    # relabel column names\n",
    "    passing_t5.columns = [x[0] + '_' + x[1] if 'Unnamed' not in x[0] else x[1] for x in passing_t5.columns]\n",
    "    # clean up ages\n",
    "    passing_t5['Age'] = [x.split('-')[0] if type(x)==str else '100' for x in passing_t5.Age]\n",
    "    # convert from strings to numerics\n",
    "    num_cols = ['Age', 'Born', '90s', 'Total_Cmp', 'Total_Att', 'Total_Cmp%', 'Total_TotDist', 'Total_PrgDist', 'Short_Cmp', 'Short_Att', 'Short_Cmp%', \n",
    "                'Medium_Cmp', 'Medium_Att', 'Medium_Cmp%', 'Long_Cmp', 'Long_Att', 'Long_Cmp%', 'Ast', 'xAG', 'Expected_xA', 'Expected_A-xAg', 'KP', '1/3', 'PPA', 'CrsPA', 'PrgP']\n",
    "    for c in passing_t5.columns:\n",
    "        if c in num_cols:\n",
    "            passing_t5[c] = pd.to_numeric(passing_t5[c], errors='coerce')\n",
    "    \n",
    "    \n",
    "    return passing_t5\n",
    "\n",
    "dataframe = load_fbref_data()\n",
    "dataframe"
   ]
  },
  {
   "cell_type": "markdown",
   "id": "efe4d560-d111-48ff-b90f-7a6e2d8f9ec7",
   "metadata": {},
   "source": [
    "#### Part (a)\n",
    "First, let's clean up our dataset a little bit.  There are numerous columns we are not concerned with, so let's just remove them.  Drop all of the columns in the list below from our dataframe."
   ]
  },
  {
   "cell_type": "code",
   "execution_count": 21,
   "id": "c22060a3-793e-4e9c-afd1-3944290a854b",
   "metadata": {},
   "outputs": [],
   "source": [
    "cols_to_drop = ['Rk', 'Born', 'xAG', 'Expected_A-xAG', '1/3', 'PPA', 'CrsPA', 'Matches']\n",
    "\n",
    "\n",
    "### YOUR CODE HERE\n"
   ]
  },
  {
   "cell_type": "markdown",
   "id": "0a5c5e38-c390-4ac3-9b27-84da04135f5e",
   "metadata": {},
   "source": [
    "#### Part (b)\n",
    "Now, let's begin filtering our data.  First, let's determine how many players qualify based on our first 2 criteria.  Filter out all players who are not midfielders or who played fewer than 10 90s last season.  Report the number of players who qualify from each league ('Comp')."
   ]
  },
  {
   "cell_type": "code",
   "execution_count": 22,
   "id": "1639e455-4fb9-4b96-a07f-5c40860c2711",
   "metadata": {},
   "outputs": [],
   "source": [
    "### YOUR CODE HERE\n"
   ]
  },
  {
   "cell_type": "code",
   "execution_count": 23,
   "id": "28138f20-1f56-4ff8-8776-36f46eccd121",
   "metadata": {},
   "outputs": [],
   "source": [
    "# print results\n"
   ]
  },
  {
   "cell_type": "markdown",
   "id": "b595ca45-c155-4ae1-a766-266f3d132202",
   "metadata": {},
   "source": [
    "#### Part (c)\n",
    "For the next 3 criteria, we want to judge individual performance in relation to the performance of other players.  Also, we want to look statistics based on a per 90 minute rate.  Using the data we have available, create two new columns ('KP_per90' and 'Total_PrgDist_per90') and populate them with the rate data we want.  Then, filter the data further and identify the list of players who had above average passing completion percentage, key passes per 90 minutes, and progressive passing distance per 90 minutes.  Also report the means for these three statistics."
   ]
  },
  {
   "cell_type": "code",
   "execution_count": 24,
   "id": "26c62c18-2792-4291-9a4a-2a722d3c88ef",
   "metadata": {},
   "outputs": [],
   "source": [
    "### YOUR CODE HERE\n"
   ]
  },
  {
   "cell_type": "code",
   "execution_count": 25,
   "id": "09149e34-8df0-4f39-9986-53a4bbbba454",
   "metadata": {},
   "outputs": [],
   "source": [
    "# print results\n"
   ]
  },
  {
   "cell_type": "markdown",
   "id": "db737994-b64c-4987-9f2f-d1d9711c49b0",
   "metadata": {},
   "source": [
    "#### Part (d)\n",
    "Finally, filter based on the final youth criteria, and present a list of players who the team should try to sign.  Report the standard error of the mean of our 3 criteria from part (c) for this subset of players.  Recall the formula for the standard error:\n",
    "\n",
    "$$\n",
    "SE = \\frac{\\sigma}{\\sqrt{n}}\n",
    "$$\n",
    "\n",
    "where $\\sigma$ is the sample standard deviation, and $n$ is the number of independent observations."
   ]
  },
  {
   "cell_type": "code",
   "execution_count": 26,
   "id": "9c68ea01-0037-42eb-845e-96296e29ee8d",
   "metadata": {},
   "outputs": [],
   "source": [
    "### YOUR CODE HERE\n"
   ]
  },
  {
   "cell_type": "code",
   "execution_count": 27,
   "id": "9faa0b82-76e0-4091-9737-f2e4bcccec3b",
   "metadata": {},
   "outputs": [],
   "source": [
    "# print results\n"
   ]
  },
  {
   "cell_type": "markdown",
   "id": "6118408b-bbea-435a-9b7e-82e8ac64f50b",
   "metadata": {},
   "source": [
    "## Problem 4: Reading, Parsing, and Writing Files\n",
    "The opening few pages to Edward Albee's play \"A Delicate Balance\" are stored in the text file sample_files/Albee_A_Delicate_Balance.txt.  Each line in the text file contains one line of dialogue, with the start of the line indicating the character speaking (i.e. CHARACTER_NAME: line of dialogue).\n",
    "\n",
    "For each question, you will append your answer to the \"answers\" list, and at the end of the problem you will save that list to a pickle (.pkl) file."
   ]
  },
  {
   "cell_type": "code",
   "execution_count": 28,
   "id": "300bfc4f-edac-4d6c-b2dc-2e93495bbf55",
   "metadata": {},
   "outputs": [],
   "source": [
    "answers = []"
   ]
  },
  {
   "cell_type": "markdown",
   "id": "e2a2b93d-5688-4ef3-aabf-ec88021c5959",
   "metadata": {},
   "source": [
    "#### Part (a)\n",
    "Determine how many lines each character has.  Store in the answers list as (character, number of lines) tuples, which should be ordered based on the order in which the characters' first lines appear in the play."
   ]
  },
  {
   "cell_type": "code",
   "execution_count": 29,
   "id": "ef5d1525-a2e4-4098-9b31-aeb84257f3fb",
   "metadata": {},
   "outputs": [],
   "source": [
    "### YOUR CODE HERE\n"
   ]
  },
  {
   "cell_type": "code",
   "execution_count": 30,
   "id": "8fc9f1ed-3883-4b5b-84cb-c331dc5e1b38",
   "metadata": {},
   "outputs": [],
   "source": [
    "# append to answers list\n"
   ]
  },
  {
   "cell_type": "markdown",
   "id": "aabdaafc-d5c6-4f1e-a61c-706a55551511",
   "metadata": {},
   "source": [
    "#### Part (b)\n",
    "Determine how many times a character says \"Julia.\""
   ]
  },
  {
   "cell_type": "code",
   "execution_count": 31,
   "id": "380cf8f9-26b1-4484-ab40-89a558f342b9",
   "metadata": {},
   "outputs": [],
   "source": [
    "### YOUR CODE HERE\n"
   ]
  },
  {
   "cell_type": "code",
   "execution_count": 32,
   "id": "db8862e5-ff97-407c-bc5c-be19a4914c58",
   "metadata": {},
   "outputs": [],
   "source": [
    "# append to answers list\n"
   ]
  },
  {
   "cell_type": "markdown",
   "id": "50e12d34-1ec6-463f-aba2-0d3125c90fa6",
   "metadata": {},
   "source": [
    "#### Part (c)\n",
    "Find the 10th word of every line and add it to your list of answers.  For lines with fewer than 10 words, instead add the number of words on the line to your list of answers.  Note that the character name does not count as a word, and that we only want words (not numbers or special characters)."
   ]
  },
  {
   "cell_type": "code",
   "execution_count": 33,
   "id": "1ad63933-e3f1-4192-936a-3215afd65c22",
   "metadata": {},
   "outputs": [],
   "source": [
    "### YOUR CODE HERE\n"
   ]
  },
  {
   "cell_type": "code",
   "execution_count": 34,
   "id": "7a429bfb-7188-4365-ad45-50f0b7df96aa",
   "metadata": {},
   "outputs": [],
   "source": [
    "# append to answers list\n"
   ]
  },
  {
   "cell_type": "markdown",
   "id": "841ca306-6d87-4b77-b657-b3869553b589",
   "metadata": {
    "jupyter": {
     "outputs_hidden": true
    },
    "tags": []
   },
   "source": [
    "#### Part (d)\n",
    "Save your answers to a pickle file called 'answers.pkl'."
   ]
  },
  {
   "cell_type": "code",
   "execution_count": 35,
   "id": "16b0b6bc-946e-43ca-8760-23618ae85571",
   "metadata": {},
   "outputs": [],
   "source": [
    "### YOUR CODE HERE\n"
   ]
  },
  {
   "cell_type": "markdown",
   "id": "fd9823aa-c134-4912-91e4-107fee6e5d68",
   "metadata": {},
   "source": [
    "## Problem 5: Randomize\n",
    "Randomize a list of $n$ items.  First, do so with only using *np.random.randint* to generate 1 random integer at a time.  Then, do so with *np.random.shuffle*.  Compare how long the two methods take for lists of length 1000, and 1000000.\n",
    "* Hints: *time.time()* will get the current time, which we can use to calculate how long code takes to run."
   ]
  },
  {
   "cell_type": "code",
   "execution_count": 36,
   "id": "80e8a7e7-eafa-40d4-98ff-a25508810aad",
   "metadata": {},
   "outputs": [],
   "source": [
    "# lists of different lengths\n",
    "lst_thousand = np.arange(1000)\n",
    "lst_million = np.arange(1000000)"
   ]
  },
  {
   "cell_type": "code",
   "execution_count": 37,
   "id": "c84bba4f-4a73-41cd-8dd9-94ff4fd90bfc",
   "metadata": {},
   "outputs": [],
   "source": [
    "def randomize(lst):\n",
    "    ### YOUR CODE HERE\n",
    "    raise NotImplementedError\n",
    "    \n",
    "def shuffle(lst):\n",
    "    new_lst = lst.copy()\n",
    "    np.random.shuffle(new_lst)\n",
    "    return new_lst"
   ]
  },
  {
   "cell_type": "code",
   "execution_count": 38,
   "id": "83988c47-3780-4a62-b2e6-68e665087634",
   "metadata": {},
   "outputs": [],
   "source": [
    "### YOUR CODE HERE\n"
   ]
  },
  {
   "cell_type": "code",
   "execution_count": 39,
   "id": "907e1bbe-88ea-4c8b-92de-14922aa206ed",
   "metadata": {},
   "outputs": [],
   "source": [
    "# print results\n"
   ]
  }
 ],
 "metadata": {
  "kernelspec": {
   "display_name": "workshop_311",
   "language": "python",
   "name": "workshop_311"
  },
  "language_info": {
   "codemirror_mode": {
    "name": "ipython",
    "version": 3
   },
   "file_extension": ".py",
   "mimetype": "text/x-python",
   "name": "python",
   "nbconvert_exporter": "python",
   "pygments_lexer": "ipython3",
   "version": "3.11.5"
  }
 },
 "nbformat": 4,
 "nbformat_minor": 5
}
